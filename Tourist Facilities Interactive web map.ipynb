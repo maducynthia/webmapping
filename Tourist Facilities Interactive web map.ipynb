{
 "cells": [
  {
   "cell_type": "code",
   "execution_count": 6,
   "id": "fa270484-95ff-424e-8ecc-eb5ed610162b",
   "metadata": {
    "scrolled": true
   },
   "outputs": [
    {
     "name": "stdout",
     "output_type": "stream",
     "text": [
      "Columns in CSV: ['latitude', 'longitude', 'name', 'location', 'type']\n",
      "Map has been created and saved as interactive_map.html\n"
     ]
    }
   ],
   "source": [
    "import folium\n",
    "import pandas as pd\n",
    "\n",
    "# Function to create the map\n",
    "def create_interactive_map(csv_file, output_map_file='interactive_map.html'):\n",
    "    try:\n",
    "        # Load the CSV file into a DataFrame\n",
    "        data = pd.read_csv('Project data2_out.csv')\n",
    "\n",
    "        # Print the column names for debugging\n",
    "        print(f\"Columns in CSV: {data.columns.tolist()}\")\n",
    "\n",
    "        # Required columns\n",
    "        required_columns = ['latitude', 'longitude', 'name', 'location', 'type']\n",
    "\n",
    "        # Check if all required columns exist (case insensitive)\n",
    "        data.columns = data.columns.str.strip()  # Strip any leading/trailing spaces\n",
    "        missing_columns = [col for col in required_columns if col not in data.columns]\n",
    "\n",
    "        if missing_columns:\n",
    "            raise ValueError(f\"CSV file is missing the following required columns: {', '.join(missing_columns)}\")\n",
    "\n",
    "        # Create a base map centered around the average of all provided coordinates\n",
    "        start_coords = (data['latitude'].mean(), data['longitude'].mean())\n",
    "        interactive_map = folium.Map(location=start_coords, zoom_start=10)\n",
    "\n",
    "        # Add tile layers for road networks and satellite view\n",
    "        folium.TileLayer('openstreetmap', name='Road Map').add_to(interactive_map)  # Default road network\n",
    "        folium.TileLayer('Stamen Toner', name='Stamen Toner').add_to(interactive_map)  # Black and white road map\n",
    "        folium.TileLayer('Stamen Terrain', name='Terrain Map').add_to(interactive_map)  # Terrain map\n",
    "        folium.TileLayer(\n",
    "            tiles='https://server.arcgisonline.com/ArcGIS/rest/services/World_Imagery/MapServer/tile/{z}/{y}/{x}',\n",
    "            attr='Esri',\n",
    "            name='Satellite',\n",
    "            overlay=False,\n",
    "            control=True\n",
    "        ).add_to(interactive_map)  # Satellite view\n",
    "\n",
    "        # Add Layer control to toggle between different map views\n",
    "        folium.LayerControl().add_to(interactive_map)\n",
    "\n",
    "        # Plot each data point with a label\n",
    "        for _, row in data.iterrows():\n",
    "            folium.Marker(\n",
    "                location=(row['latitude'], row['longitude']),\n",
    "                popup=f\"Name: {row['name']}<br>Location: {row['location']}<br>Type: {row['type']}\",\n",
    "                icon=folium.Icon(color='blue', icon='info-sign')\n",
    "            ).add_to(interactive_map)\n",
    "            \n",
    "            # Add a permanent label for the name\n",
    "            folium.Marker(\n",
    "                location=(row['latitude'], row['longitude']),\n",
    "                icon=folium.DivIcon(\n",
    "                    html=f\"\"\"<div style=\"font-size: 12pt; color : black\">{row['name']}</div>\"\"\"\n",
    "                )\n",
    "            ).add_to(interactive_map)\n",
    "\n",
    "        # Save the map to an HTML file\n",
    "        interactive_map.save(output_map_file)\n",
    "        print(f\"Map has been created and saved as {output_map_file}\")\n",
    "\n",
    "    except FileNotFoundError:\n",
    "        print(f\"Error: The file {csv_file} was not found.\")\n",
    "    except pd.errors.EmptyDataError:\n",
    "        print(\"Error: The CSV file is empty.\")\n",
    "    except ValueError as ve:\n",
    "        print(f\"ValueError: {ve}\")\n",
    "    except Exception as e:\n",
    "        print(f\"An unexpected error occurred: {e}\")\n",
    "\n",
    "# Example usage\n",
    "if __name__ == \"__main__\":\n",
    "    csv_file_path = 'Project data2_out.csv'  # Ensure this is the correct path to your CSV file\n",
    "    create_interactive_map(csv_file_path)\n"
   ]
  },
  {
   "cell_type": "code",
   "execution_count": null,
   "id": "74966c4e-d463-4a71-9bd7-6a707ac6b1f8",
   "metadata": {},
   "outputs": [],
   "source": []
  }
 ],
 "metadata": {
  "kernelspec": {
   "display_name": "Python 3 (ipykernel)",
   "language": "python",
   "name": "python3"
  },
  "language_info": {
   "codemirror_mode": {
    "name": "ipython",
    "version": 3
   },
   "file_extension": ".py",
   "mimetype": "text/x-python",
   "name": "python",
   "nbconvert_exporter": "python",
   "pygments_lexer": "ipython3",
   "version": "3.11.7"
  }
 },
 "nbformat": 4,
 "nbformat_minor": 5
}
